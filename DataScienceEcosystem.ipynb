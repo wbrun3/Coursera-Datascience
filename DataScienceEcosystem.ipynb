{
  "nbformat": 4,
  "nbformat_minor": 0,
  "metadata": {
    "colab": {
      "provenance": [],
      "authorship_tag": "ABX9TyOoffGdtanpYG/ytR4zdW83",
      "include_colab_link": true
    },
    "kernelspec": {
      "name": "python3",
      "display_name": "Python 3"
    },
    "language_info": {
      "name": "python"
    }
  },
  "cells": [
    {
      "cell_type": "markdown",
      "metadata": {
        "id": "view-in-github",
        "colab_type": "text"
      },
      "source": [
        "<a href=\"https://colab.research.google.com/github/wbrun3/Coursera-Datascience/blob/main/DataScienceEcosystem.ipynb\" target=\"_parent\"><img src=\"https://colab.research.google.com/assets/colab-badge.svg\" alt=\"Open In Colab\"/></a>"
      ]
    },
    {
      "cell_type": "markdown",
      "source": [
        "# Data Science Tools and Ecosystem"
      ],
      "metadata": {
        "id": "SYr2rwCzuRBf"
      }
    },
    {
      "cell_type": "markdown",
      "source": [
        "##Author:\n",
        "William Brun"
      ],
      "metadata": {
        "id": "zLORHUwz137w"
      }
    },
    {
      "cell_type": "markdown",
      "source": [
        "In this notebook, Data Science Tools and Ecosystem are summarized.\n",
        "\n"
      ],
      "metadata": {
        "id": "XWRqA2gfuq60"
      }
    },
    {
      "cell_type": "markdown",
      "source": [
        "**Objectives**:\n",
        "\n",
        "\n",
        "*   List of Popular coding languages\n",
        "*   List of common librarys\n",
        "*   table of data science IDEs\n",
        "\n",
        "\n"
      ],
      "metadata": {
        "id": "7402Vfn7z7RE"
      }
    },
    {
      "cell_type": "markdown",
      "source": [
        "### Some of the popular languages that Data Scientists use are:\n",
        "1. Python\n",
        "2. R\n",
        "3. C++\n"
      ],
      "metadata": {
        "id": "BIoCz9LMviNw"
      }
    },
    {
      "cell_type": "markdown",
      "source": [
        "###Some of the commonly used libraries used by Data Scientists include:\n",
        "1.   Pandas\n",
        "2.   Matplotlib\n",
        "3.   GGplot\n"
      ],
      "metadata": {
        "id": "c5yxPAZoxPXd"
      }
    },
    {
      "cell_type": "markdown",
      "source": [
        "| **Data Science Tools**      |\n",
        "|----------------------------|\n",
        "| Jupyter Notebook           |\n",
        "| RStudio                    |\n",
        "| Apache Spark               |"
      ],
      "metadata": {
        "id": "IQcPi37Cv7my"
      }
    },
    {
      "cell_type": "markdown",
      "source": [
        "###Below are a few examples of evaluating arithmetic expressions in Python."
      ],
      "metadata": {
        "id": "6Xp819NeyY1G"
      }
    },
    {
      "cell_type": "code",
      "source": [
        "#This a simple arithmetic expression to mutiply then add integers\n",
        "(3*4)+5"
      ],
      "metadata": {
        "colab": {
          "base_uri": "https://localhost:8080/"
        },
        "id": "ZGFCqMUyykdn",
        "outputId": "631e5c29-26e1-403e-f078-01e21f9a30c4"
      },
      "execution_count": 1,
      "outputs": [
        {
          "output_type": "execute_result",
          "data": {
            "text/plain": [
              "17"
            ]
          },
          "metadata": {},
          "execution_count": 1
        }
      ]
    },
    {
      "cell_type": "code",
      "source": [
        "#This will convert 200 minutes to hours by diving by 60\n",
        "200 / 60\n"
      ],
      "metadata": {
        "colab": {
          "base_uri": "https://localhost:8080/"
        },
        "id": "6BQurMgKy-9Z",
        "outputId": "3c509a4b-1a69-40ca-e748-f4e3ecf8e2f9"
      },
      "execution_count": 8,
      "outputs": [
        {
          "output_type": "execute_result",
          "data": {
            "text/plain": [
              "3.3333333333333335"
            ]
          },
          "metadata": {},
          "execution_count": 8
        }
      ]
    }
  ]
}